{
 "cells": [
  {
   "cell_type": "code",
   "execution_count": 9,
   "metadata": {},
   "outputs": [],
   "source": [
    "# import tools\n",
    "import pandas as pd\n",
    "%matplotlib inline\n",
    "import qiime2\n",
    "from qiime2 import Artifact\n",
    "from tempfile import mkdtemp\n",
    "from qiime2.plugins import demux, deblur, quality_filter, \\\n",
    "                           metadata, feature_table, alignment, \\\n",
    "                           phylogeny, diversity, emperor, feature_classifier, \\\n",
    "                           taxa, composition\n",
    "from qiime2.plugins import fragment_insertion\n",
    "from qiime2.plugins.fragment_insertion.methods import filter_features\n",
    "from qiime2.plugins.feature_table.methods import filter_samples\n",
    "from qiime2.plugins.feature_table.visualizers import summarize\n",
    "import seaborn as sns\n",
    "import matplotlib.pyplot as plt\n",
    "import numpy as np\n",
    "import pylab\n",
    "from scipy.optimize import curve_fit"
   ]
  },
  {
   "cell_type": "markdown",
   "metadata": {},
   "source": [
    "## Import data"
   ]
  },
  {
   "cell_type": "code",
   "execution_count": 10,
   "metadata": {},
   "outputs": [],
   "source": [
    "# import raw feature table and taxonomy\n",
    "table = Artifact.load('95149_feature-table.qza')\n",
    "tx = Artifact.load('95149_reference-hit.taxonomy_gg.qza').view(pd.DataFrame)"
   ]
  },
  {
   "cell_type": "markdown",
   "metadata": {},
   "source": [
    "## Quantify reads aligning to positve control"
   ]
  },
  {
   "cell_type": "code",
   "execution_count": 11,
   "metadata": {},
   "outputs": [
    {
     "data": {
      "text/html": [
       "<div>\n",
       "<style scoped>\n",
       "    .dataframe tbody tr th:only-of-type {\n",
       "        vertical-align: middle;\n",
       "    }\n",
       "\n",
       "    .dataframe tbody tr th {\n",
       "        vertical-align: top;\n",
       "    }\n",
       "\n",
       "    .dataframe thead th {\n",
       "        text-align: right;\n",
       "    }\n",
       "</style>\n",
       "<table border=\"1\" class=\"dataframe\">\n",
       "  <thead>\n",
       "    <tr style=\"text-align: right;\">\n",
       "      <th></th>\n",
       "      <th>index</th>\n",
       "      <th>13092.v2.10B.ZymoMock.A7</th>\n",
       "      <th>13092.v2.10.ZymoMock.A7.MVPII</th>\n",
       "      <th>13092.v2.11.ZymoMock.A7.MVPII</th>\n",
       "      <th>13092.v2.11B.ZymoMock.A7</th>\n",
       "      <th>Confidence</th>\n",
       "    </tr>\n",
       "    <tr>\n",
       "      <th>Taxon</th>\n",
       "      <th></th>\n",
       "      <th></th>\n",
       "      <th></th>\n",
       "      <th></th>\n",
       "      <th></th>\n",
       "      <th></th>\n",
       "    </tr>\n",
       "  </thead>\n",
       "  <tbody>\n",
       "    <tr>\n",
       "      <th>k__Bacteria; p__Proteobacteria; c__Gammaproteobacteria; o__Enterobacteriales; f__Enterobacteriaceae</th>\n",
       "      <td>TACGGAGGGTGCAAGCGTTAATCGGAATTACTGGGCGTAAAGCGCA...</td>\n",
       "      <td>53220.0</td>\n",
       "      <td>13004.0</td>\n",
       "      <td>36642.0</td>\n",
       "      <td>40354.0</td>\n",
       "      <td>0.9999995077760527</td>\n",
       "    </tr>\n",
       "    <tr>\n",
       "      <th>k__Bacteria; p__Proteobacteria; c__Gammaproteobacteria; o__Enterobacteriales; f__Enterobacteriaceae</th>\n",
       "      <td>TACGGAGGGTGCAAGCGTTAATCGGAATTACTGGGCGTAAAGCGCA...</td>\n",
       "      <td>50353.0</td>\n",
       "      <td>12592.0</td>\n",
       "      <td>34952.0</td>\n",
       "      <td>38145.0</td>\n",
       "      <td>0.9999999399832155</td>\n",
       "    </tr>\n",
       "    <tr>\n",
       "      <th>k__Bacteria; p__Firmicutes; c__Bacilli; o__Lactobacillales; f__Enterococcaceae; g__Enterococcus</th>\n",
       "      <td>TACGTAGGTGGCAAGCGTTGTCCGGATTTATTGGGCGTAAAGCGAG...</td>\n",
       "      <td>23747.0</td>\n",
       "      <td>10301.0</td>\n",
       "      <td>17332.0</td>\n",
       "      <td>19344.0</td>\n",
       "      <td>0.8381339317137253</td>\n",
       "    </tr>\n",
       "    <tr>\n",
       "      <th>k__Bacteria; p__Proteobacteria; c__Gammaproteobacteria; o__Pseudomonadales; f__Pseudomonadaceae; g__Pseudomonas</th>\n",
       "      <td>TACGAAGGGTGCAAGCGTTAATCGGAATTACTGGGCGTAAAGCGCG...</td>\n",
       "      <td>21752.0</td>\n",
       "      <td>5352.0</td>\n",
       "      <td>14777.0</td>\n",
       "      <td>16603.0</td>\n",
       "      <td>0.7568461062511695</td>\n",
       "    </tr>\n",
       "    <tr>\n",
       "      <th>k__Bacteria; p__Firmicutes; c__Bacilli</th>\n",
       "      <td>TACGTAGGTGGCAAGCGTTATCCGGAATTATTGGGCGTAAAGCGCG...</td>\n",
       "      <td>15065.0</td>\n",
       "      <td>12182.0</td>\n",
       "      <td>10962.0</td>\n",
       "      <td>11956.0</td>\n",
       "      <td>0.999999999827695</td>\n",
       "    </tr>\n",
       "    <tr>\n",
       "      <th>k__Bacteria; p__Firmicutes; c__Bacilli; o__Bacillales; f__Bacillaceae; g__Bacillus; s__</th>\n",
       "      <td>TACGTAGGTGGCAAGCGTTGTCCGGAATTATTGGGCGTAAAGGGCT...</td>\n",
       "      <td>11143.0</td>\n",
       "      <td>6923.0</td>\n",
       "      <td>8374.0</td>\n",
       "      <td>9389.0</td>\n",
       "      <td>0.9547623319560599</td>\n",
       "    </tr>\n",
       "    <tr>\n",
       "      <th>k__Bacteria; p__Firmicutes; c__Bacilli; o__Lactobacillales; f__Lactobacillaceae; g__Lactobacillus; s__</th>\n",
       "      <td>TACGTAGGTGGCAAGCGTTATCCGGATTTATTGGGCGTAAAGAGAG...</td>\n",
       "      <td>8423.0</td>\n",
       "      <td>35119.0</td>\n",
       "      <td>6399.0</td>\n",
       "      <td>8342.0</td>\n",
       "      <td>0.8940640260282465</td>\n",
       "    </tr>\n",
       "    <tr>\n",
       "      <th>k__Bacteria; p__Firmicutes; c__Bacilli; o__Bacillales; f__Listeriaceae; g__Listeria</th>\n",
       "      <td>TACGTAGGTGGCAAGCGTTGTCCGGATTTATTGGGCGTAAAGCGCG...</td>\n",
       "      <td>4874.0</td>\n",
       "      <td>3348.0</td>\n",
       "      <td>3948.0</td>\n",
       "      <td>4354.0</td>\n",
       "      <td>0.9317293667259242</td>\n",
       "    </tr>\n",
       "    <tr>\n",
       "      <th>k__Bacteria; p__Proteobacteria; c__Gammaproteobacteria; o__Enterobacteriales; f__Enterobacteriaceae</th>\n",
       "      <td>TACGGAGGGTGCAAGCGTTAATCGGAATTACTGGGCGTAAAGCGCA...</td>\n",
       "      <td>1588.0</td>\n",
       "      <td>587.0</td>\n",
       "      <td>1048.0</td>\n",
       "      <td>962.0</td>\n",
       "      <td>0.9999998276935724</td>\n",
       "    </tr>\n",
       "    <tr>\n",
       "      <th>k__Bacteria; p__Firmicutes; c__Bacilli</th>\n",
       "      <td>TACGTAGGTGGCAAGCGTTATCCGGAATTATTGGGCGTAAAGCGCG...</td>\n",
       "      <td>11.0</td>\n",
       "      <td>0.0</td>\n",
       "      <td>0.0</td>\n",
       "      <td>0.0</td>\n",
       "      <td>0.9999999997072827</td>\n",
       "    </tr>\n",
       "  </tbody>\n",
       "</table>\n",
       "</div>"
      ],
      "text/plain": [
       "                                                                                                index  \\\n",
       "Taxon                                                                                                   \n",
       "k__Bacteria; p__Proteobacteria; c__Gammaproteob...  TACGGAGGGTGCAAGCGTTAATCGGAATTACTGGGCGTAAAGCGCA...   \n",
       "k__Bacteria; p__Proteobacteria; c__Gammaproteob...  TACGGAGGGTGCAAGCGTTAATCGGAATTACTGGGCGTAAAGCGCA...   \n",
       "k__Bacteria; p__Firmicutes; c__Bacilli; o__Lact...  TACGTAGGTGGCAAGCGTTGTCCGGATTTATTGGGCGTAAAGCGAG...   \n",
       "k__Bacteria; p__Proteobacteria; c__Gammaproteob...  TACGAAGGGTGCAAGCGTTAATCGGAATTACTGGGCGTAAAGCGCG...   \n",
       "k__Bacteria; p__Firmicutes; c__Bacilli              TACGTAGGTGGCAAGCGTTATCCGGAATTATTGGGCGTAAAGCGCG...   \n",
       "k__Bacteria; p__Firmicutes; c__Bacilli; o__Baci...  TACGTAGGTGGCAAGCGTTGTCCGGAATTATTGGGCGTAAAGGGCT...   \n",
       "k__Bacteria; p__Firmicutes; c__Bacilli; o__Lact...  TACGTAGGTGGCAAGCGTTATCCGGATTTATTGGGCGTAAAGAGAG...   \n",
       "k__Bacteria; p__Firmicutes; c__Bacilli; o__Baci...  TACGTAGGTGGCAAGCGTTGTCCGGATTTATTGGGCGTAAAGCGCG...   \n",
       "k__Bacteria; p__Proteobacteria; c__Gammaproteob...  TACGGAGGGTGCAAGCGTTAATCGGAATTACTGGGCGTAAAGCGCA...   \n",
       "k__Bacteria; p__Firmicutes; c__Bacilli              TACGTAGGTGGCAAGCGTTATCCGGAATTATTGGGCGTAAAGCGCG...   \n",
       "\n",
       "                                                    13092.v2.10B.ZymoMock.A7  \\\n",
       "Taxon                                                                          \n",
       "k__Bacteria; p__Proteobacteria; c__Gammaproteob...                   53220.0   \n",
       "k__Bacteria; p__Proteobacteria; c__Gammaproteob...                   50353.0   \n",
       "k__Bacteria; p__Firmicutes; c__Bacilli; o__Lact...                   23747.0   \n",
       "k__Bacteria; p__Proteobacteria; c__Gammaproteob...                   21752.0   \n",
       "k__Bacteria; p__Firmicutes; c__Bacilli                               15065.0   \n",
       "k__Bacteria; p__Firmicutes; c__Bacilli; o__Baci...                   11143.0   \n",
       "k__Bacteria; p__Firmicutes; c__Bacilli; o__Lact...                    8423.0   \n",
       "k__Bacteria; p__Firmicutes; c__Bacilli; o__Baci...                    4874.0   \n",
       "k__Bacteria; p__Proteobacteria; c__Gammaproteob...                    1588.0   \n",
       "k__Bacteria; p__Firmicutes; c__Bacilli                                  11.0   \n",
       "\n",
       "                                                    13092.v2.10.ZymoMock.A7.MVPII  \\\n",
       "Taxon                                                                               \n",
       "k__Bacteria; p__Proteobacteria; c__Gammaproteob...                        13004.0   \n",
       "k__Bacteria; p__Proteobacteria; c__Gammaproteob...                        12592.0   \n",
       "k__Bacteria; p__Firmicutes; c__Bacilli; o__Lact...                        10301.0   \n",
       "k__Bacteria; p__Proteobacteria; c__Gammaproteob...                         5352.0   \n",
       "k__Bacteria; p__Firmicutes; c__Bacilli                                    12182.0   \n",
       "k__Bacteria; p__Firmicutes; c__Bacilli; o__Baci...                         6923.0   \n",
       "k__Bacteria; p__Firmicutes; c__Bacilli; o__Lact...                        35119.0   \n",
       "k__Bacteria; p__Firmicutes; c__Bacilli; o__Baci...                         3348.0   \n",
       "k__Bacteria; p__Proteobacteria; c__Gammaproteob...                          587.0   \n",
       "k__Bacteria; p__Firmicutes; c__Bacilli                                        0.0   \n",
       "\n",
       "                                                    13092.v2.11.ZymoMock.A7.MVPII  \\\n",
       "Taxon                                                                               \n",
       "k__Bacteria; p__Proteobacteria; c__Gammaproteob...                        36642.0   \n",
       "k__Bacteria; p__Proteobacteria; c__Gammaproteob...                        34952.0   \n",
       "k__Bacteria; p__Firmicutes; c__Bacilli; o__Lact...                        17332.0   \n",
       "k__Bacteria; p__Proteobacteria; c__Gammaproteob...                        14777.0   \n",
       "k__Bacteria; p__Firmicutes; c__Bacilli                                    10962.0   \n",
       "k__Bacteria; p__Firmicutes; c__Bacilli; o__Baci...                         8374.0   \n",
       "k__Bacteria; p__Firmicutes; c__Bacilli; o__Lact...                         6399.0   \n",
       "k__Bacteria; p__Firmicutes; c__Bacilli; o__Baci...                         3948.0   \n",
       "k__Bacteria; p__Proteobacteria; c__Gammaproteob...                         1048.0   \n",
       "k__Bacteria; p__Firmicutes; c__Bacilli                                        0.0   \n",
       "\n",
       "                                                    13092.v2.11B.ZymoMock.A7  \\\n",
       "Taxon                                                                          \n",
       "k__Bacteria; p__Proteobacteria; c__Gammaproteob...                   40354.0   \n",
       "k__Bacteria; p__Proteobacteria; c__Gammaproteob...                   38145.0   \n",
       "k__Bacteria; p__Firmicutes; c__Bacilli; o__Lact...                   19344.0   \n",
       "k__Bacteria; p__Proteobacteria; c__Gammaproteob...                   16603.0   \n",
       "k__Bacteria; p__Firmicutes; c__Bacilli                               11956.0   \n",
       "k__Bacteria; p__Firmicutes; c__Bacilli; o__Baci...                    9389.0   \n",
       "k__Bacteria; p__Firmicutes; c__Bacilli; o__Lact...                    8342.0   \n",
       "k__Bacteria; p__Firmicutes; c__Bacilli; o__Baci...                    4354.0   \n",
       "k__Bacteria; p__Proteobacteria; c__Gammaproteob...                     962.0   \n",
       "k__Bacteria; p__Firmicutes; c__Bacilli                                   0.0   \n",
       "\n",
       "                                                            Confidence  \n",
       "Taxon                                                                   \n",
       "k__Bacteria; p__Proteobacteria; c__Gammaproteob...  0.9999995077760527  \n",
       "k__Bacteria; p__Proteobacteria; c__Gammaproteob...  0.9999999399832155  \n",
       "k__Bacteria; p__Firmicutes; c__Bacilli; o__Lact...  0.8381339317137253  \n",
       "k__Bacteria; p__Proteobacteria; c__Gammaproteob...  0.7568461062511695  \n",
       "k__Bacteria; p__Firmicutes; c__Bacilli               0.999999999827695  \n",
       "k__Bacteria; p__Firmicutes; c__Bacilli; o__Baci...  0.9547623319560599  \n",
       "k__Bacteria; p__Firmicutes; c__Bacilli; o__Lact...  0.8940640260282465  \n",
       "k__Bacteria; p__Firmicutes; c__Bacilli; o__Baci...  0.9317293667259242  \n",
       "k__Bacteria; p__Proteobacteria; c__Gammaproteob...  0.9999998276935724  \n",
       "k__Bacteria; p__Firmicutes; c__Bacilli              0.9999999997072827  "
      ]
     },
     "execution_count": 11,
     "metadata": {},
     "output_type": "execute_result"
    }
   ],
   "source": [
    "# see what it looks like at ASV level\n",
    "df_raw = table.view(pd.DataFrame)\n",
    "df_raw_zymo = df_raw[df_raw.index.str.contains('Zymo')]\n",
    "# ensure table values are numeric\n",
    "df_raw_zymo = df_raw_zymo.astype(float)\n",
    "# quick visual check that top 7 taxa make up most of the reads in highest input sample (well A7)\n",
    "max_input = df_raw_zymo[df_raw_zymo.index.str.contains(\"A7\")]\n",
    "df_raw_zymoT = max_input.T\n",
    "top10 = df_raw_zymoT.sort_values(df_raw_zymoT.columns[0], ascending = False).head(10)\n",
    "# add in taxonomy\n",
    "top10tx = pd.merge(top10, tx, left_index=True, right_index=True)\n",
    "top10tx.reset_index(inplace=True)\n",
    "top10tx.set_index('Taxon').head(10)\n",
    "#top10tx['index'].to_csv('/Users/lisamarotz/Desktop/temp.csv')"
   ]
  },
  {
   "cell_type": "code",
   "execution_count": 12,
   "metadata": {},
   "outputs": [],
   "source": [
    "# make a list of the taxa expected in the zymo community (also the  most abundant in the highest input samples)\n",
    "bacteria8 = top10tx.head(8)['index']"
   ]
  },
  {
   "cell_type": "code",
   "execution_count": 13,
   "metadata": {},
   "outputs": [],
   "source": [
    "# Calculate the total number of reads per sample\n",
    "df_raw_zymo['deblur_reads'] = df_raw_zymo.sum(axis=1)\n",
    "# calculate the number of reads aligning to the mock community input genera\n",
    "df_raw_zymo['zymo_reads'] = df_raw_zymo[bacteria8].sum(axis=1)\n",
    "# calculate the percent correctly assigned\n",
    "df_raw_zymo['correct_assign'] = df_raw_zymo['zymo_reads'] / df_raw_zymo['deblur_reads']"
   ]
  },
  {
   "cell_type": "code",
   "execution_count": 14,
   "metadata": {},
   "outputs": [
    {
     "name": "stderr",
     "output_type": "stream",
     "text": [
      "/Users/lisamarotz/miniconda3/envs/qiime2-2020.8/lib/python3.6/site-packages/ipykernel_launcher.py:3: SettingWithCopyWarning: \n",
      "A value is trying to be set on a copy of a slice from a DataFrame.\n",
      "Try using .loc[row_indexer,col_indexer] = value instead\n",
      "\n",
      "See the caveats in the documentation: http://pandas.pydata.org/pandas-docs/stable/user_guide/indexing.html#returning-a-view-versus-a-copy\n",
      "  This is separate from the ipykernel package so we can avoid doing imports until\n"
     ]
    }
   ],
   "source": [
    "# subset out KatharoSeq columns and add in logarithim of reads for plotting\n",
    "katharo = df_raw_zymo[['correct_assign','deblur_reads','zymo_reads']]\n",
    "katharo['log_deblur_reads'] = np.log10(katharo['deblur_reads'])"
   ]
  },
  {
   "cell_type": "markdown",
   "metadata": {},
   "source": [
    "## Fit an allosteric sigmoid curve for extrpolating min read count #"
   ]
  },
  {
   "cell_type": "code",
   "execution_count": 24,
   "metadata": {
    "scrolled": false
   },
   "outputs": [
    {
     "name": "stdout",
     "output_type": "stream",
     "text": [
      "[1.74751962e+01 4.70225992e+07]\n"
     ]
    },
    {
     "data": {
      "image/png": "[encoded data removed]",
      "text/plain": [
       "<Figure size 432x288 with 1 Axes>"
      ]
     },
     "metadata": {
      "needs_background": "light"
     },
     "output_type": "display_data"
    }
   ],
   "source": [
    "# define the allosteric sigmoid equation\n",
    "def allosteric_sigmoid(x, h, k_prime):\n",
    "    y = x ** h / (k_prime + x ** h)\n",
    "    return y\n",
    " \n",
    "# fit the curve to your data\n",
    "popt, pcov = curve_fit(allosteric_sigmoid, katharo['log_deblur_reads'], katharo['correct_assign'], method='dogbox')\n",
    "print(popt)\n",
    "# plot fit curve\n",
    "x = np.linspace(0, 5, 50)\n",
    "y = allosteric_sigmoid(x, *popt)\n",
    "\n",
    "# plot the fit\n",
    "pylab.plot(katharo['log_deblur_reads'], katharo['correct_assign'], 'o', label='data')\n",
    "pylab.plot(x,y, label='fit')\n",
    "pylab.ylim(0, 1.05)\n",
    "pylab.legend(loc='best')\n",
    "pylab.show()"
   ]
  },
  {
   "cell_type": "code",
   "execution_count": 26,
   "metadata": {},
   "outputs": [
    {
     "data": {
      "text/plain": [
       "944"
      ]
     },
     "execution_count": 26,
     "metadata": {},
     "output_type": "execute_result"
    }
   ],
   "source": [
    "# Determine the number of reads at which 80% of reads are expected to match input\n",
    "\n",
    "# assign variables and solve for X (number of reads to pass filter)\n",
    "h = popt[0]  # first value printed above graph\n",
    "k = popt[1]   # second value printed above graph\n",
    "y = 0.8 ## what you want to solve for\n",
    "\n",
    "min_log_reads = np.power((k/((1/y)-1)),(1/h))\n",
    "min_freq_80 = np.power(10, min_log_reads).astype(int)\n",
    "min_freq_80"
   ]
  },
  {
   "cell_type": "code",
   "execution_count": null,
   "metadata": {},
   "outputs": [],
   "source": []
  },
  {
   "cell_type": "markdown",
   "metadata": {},
   "source": [
    "## Remove samples with less than Katharoseq read limit"
   ]
  },
  {
   "cell_type": "code",
   "execution_count": 18,
   "metadata": {},
   "outputs": [],
   "source": [
    "# filter out samples with read counts below what is estimated to achieve 80% accuracy  \n",
    "KS_table_80 = feature_table.methods.filter_samples(table = table,\n",
    "                             min_frequency = min_freq_80)\n",
    "df_80 = KS_table_80.filtered_table.view(pd.DataFrame)"
   ]
  },
  {
   "cell_type": "code",
   "execution_count": 19,
   "metadata": {},
   "outputs": [
    {
     "name": "stdout",
     "output_type": "stream",
     "text": [
      "full dataset 381 \n",
      " 80% 209 0.5485564304461942 % \n",
      "\n"
     ]
    }
   ],
   "source": [
    "# import collapsed table as pandas dataframe\n",
    "print(\"full dataset\", len(df_raw), \"\\n\",\n",
    "      \"80%\", len(df_80), len(df_80)/len(df_raw),\"%\", \"\\n\")"
   ]
  },
  {
   "cell_type": "markdown",
   "metadata": {},
   "source": [
    "### Export Data"
   ]
  },
  {
   "cell_type": "code",
   "execution_count": 20,
   "metadata": {},
   "outputs": [
    {
     "data": {
      "text/plain": [
       "'95149_feature-table-KathSeqFil.qza'"
      ]
     },
     "execution_count": 20,
     "metadata": {},
     "output_type": "execute_result"
    }
   ],
   "source": [
    "KS_table_80.filtered_table.save('95149_feature-table-KathSeqFil.qza')"
   ]
  },
  {
   "cell_type": "code",
   "execution_count": null,
   "metadata": {},
   "outputs": [],
   "source": []
  }
 ],
 "metadata": {
  "kernelspec": {
   "display_name": "Python 3",
   "language": "python",
   "name": "python3"
  },
  "language_info": {
   "codemirror_mode": {
    "name": "ipython",
    "version": 3
   },
   "file_extension": ".py",
   "mimetype": "text/x-python",
   "name": "python",
   "nbconvert_exporter": "python",
   "pygments_lexer": "ipython3",
   "version": "3.6.11"
  }
 },
 "nbformat": 4,
 "nbformat_minor": 4
}
