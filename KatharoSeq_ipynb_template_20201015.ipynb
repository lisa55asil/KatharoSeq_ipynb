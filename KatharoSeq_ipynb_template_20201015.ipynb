{
 "cells": [
  {
   "cell_type": "code",
   "execution_count": 3,
   "metadata": {},
   "outputs": [],
   "source": [
    "# import tools\n",
    "import pandas as pd\n",
    "%matplotlib inline\n",
    "import qiime2\n",
    "from qiime2 import Artifact\n",
    "from tempfile import mkdtemp\n",
    "from qiime2.plugins import demux, deblur, quality_filter, \\\n",
    "                           metadata, feature_table, alignment, \\\n",
    "                           phylogeny, diversity, emperor, feature_classifier, \\\n",
    "                           taxa, composition\n",
    "from qiime2.plugins import fragment_insertion\n",
    "from qiime2.plugins.fragment_insertion.methods import filter_features\n",
    "from qiime2.plugins.feature_table.methods import filter_samples\n",
    "from qiime2.plugins.feature_table.visualizers import summarize\n",
    "import seaborn as sns\n",
    "import matplotlib.pyplot as plt\n",
    "import numpy as np\n",
    "import pylab\n",
    "from scipy.optimize import curve_fit"
   ]
  },
  {
   "cell_type": "markdown",
   "metadata": {},
   "source": [
    "## Import data"
   ]
  },
  {
   "cell_type": "code",
   "execution_count": 26,
   "metadata": {},
   "outputs": [],
   "source": [
    "# import raw feature table and taxonomy\n",
    "table = Artifact.load('96057_feature-table.qza')\n",
    "taxonomy = Artifact.load('96057_reference-hit.taxonomy_gg.qza')"
   ]
  },
  {
   "cell_type": "markdown",
   "metadata": {},
   "source": [
    "## Collapse and subset data"
   ]
  },
  {
   "cell_type": "code",
   "execution_count": 27,
   "metadata": {},
   "outputs": [],
   "source": [
    "# collapsed table to genus level\n",
    "t6 = taxa.methods.collapse(table = table,\n",
    "                           taxonomy = taxonomy,\n",
    "                           level = 6)\n",
    "# import collapsed table as pandas dataframe\n",
    "df = t6.collapsed_table.view(pd.DataFrame)\n",
    "# subset out Zymo mock community samples\n",
    "zymo = df[df.index.str.contains('Zymo')]\n",
    "# ensure table values are numeric\n",
    "zymo = zymo.astype(float)"
   ]
  },
  {
   "cell_type": "code",
   "execution_count": 28,
   "metadata": {},
   "outputs": [
    {
     "data": {
      "text/html": [
       "<div>\n",
       "<style scoped>\n",
       "    .dataframe tbody tr th:only-of-type {\n",
       "        vertical-align: middle;\n",
       "    }\n",
       "\n",
       "    .dataframe tbody tr th {\n",
       "        vertical-align: top;\n",
       "    }\n",
       "\n",
       "    .dataframe thead th {\n",
       "        text-align: right;\n",
       "    }\n",
       "</style>\n",
       "<table border=\"1\" class=\"dataframe\">\n",
       "  <thead>\n",
       "    <tr style=\"text-align: right;\">\n",
       "      <th></th>\n",
       "      <th>13092.v2.06.ZymoMock.A7</th>\n",
       "      <th>13092.v2.13.ZymoMock.A7</th>\n",
       "      <th>13092.v2.05.ZymoMock.A7</th>\n",
       "      <th>13092.v2.14.ZymoMock.A7</th>\n",
       "    </tr>\n",
       "  </thead>\n",
       "  <tbody>\n",
       "    <tr>\n",
       "      <th>k__Bacteria;p__Proteobacteria;c__Gammaproteobacteria;o__Enterobacteriales;f__Enterobacteriaceae;__</th>\n",
       "      <td>49798.0</td>\n",
       "      <td>33220.0</td>\n",
       "      <td>46877.0</td>\n",
       "      <td>39241.0</td>\n",
       "    </tr>\n",
       "    <tr>\n",
       "      <th>k__Bacteria;p__Firmicutes;c__Bacilli;o__Lactobacillales;f__Enterococcaceae;g__Enterococcus</th>\n",
       "      <td>12121.0</td>\n",
       "      <td>9014.0</td>\n",
       "      <td>12239.0</td>\n",
       "      <td>9477.0</td>\n",
       "    </tr>\n",
       "    <tr>\n",
       "      <th>k__Bacteria;p__Proteobacteria;c__Gammaproteobacteria;o__Pseudomonadales;f__Pseudomonadaceae;g__Pseudomonas</th>\n",
       "      <td>8525.0</td>\n",
       "      <td>3420.0</td>\n",
       "      <td>7846.0</td>\n",
       "      <td>8769.0</td>\n",
       "    </tr>\n",
       "    <tr>\n",
       "      <th>k__Bacteria;p__Firmicutes;c__Bacilli;__;__;__</th>\n",
       "      <td>7528.0</td>\n",
       "      <td>5928.0</td>\n",
       "      <td>7321.0</td>\n",
       "      <td>6265.0</td>\n",
       "    </tr>\n",
       "    <tr>\n",
       "      <th>k__Bacteria;p__Firmicutes;c__Bacilli;o__Bacillales;f__Bacillaceae;g__Bacillus</th>\n",
       "      <td>6197.0</td>\n",
       "      <td>4910.0</td>\n",
       "      <td>6306.0</td>\n",
       "      <td>4676.0</td>\n",
       "    </tr>\n",
       "    <tr>\n",
       "      <th>k__Bacteria;p__Firmicutes;c__Bacilli;o__Lactobacillales;f__Lactobacillaceae;g__Lactobacillus</th>\n",
       "      <td>4895.0</td>\n",
       "      <td>4461.0</td>\n",
       "      <td>5415.0</td>\n",
       "      <td>3018.0</td>\n",
       "    </tr>\n",
       "    <tr>\n",
       "      <th>k__Bacteria;p__Firmicutes;c__Bacilli;o__Bacillales;f__Listeriaceae;g__Listeria</th>\n",
       "      <td>2735.0</td>\n",
       "      <td>2302.0</td>\n",
       "      <td>2894.0</td>\n",
       "      <td>2319.0</td>\n",
       "    </tr>\n",
       "    <tr>\n",
       "      <th>k__Bacteria;p__Actinobacteria;c__Actinobacteria;o__Actinomycetales;f__Corynebacteriaceae;g__Corynebacterium</th>\n",
       "      <td>21.0</td>\n",
       "      <td>10.0</td>\n",
       "      <td>20.0</td>\n",
       "      <td>49.0</td>\n",
       "    </tr>\n",
       "    <tr>\n",
       "      <th>k__Bacteria;p__Bacteroidetes;c__Bacteroidia;o__Bacteroidales;f__Bacteroidaceae;g__Bacteroides</th>\n",
       "      <td>15.0</td>\n",
       "      <td>12.0</td>\n",
       "      <td>21.0</td>\n",
       "      <td>23.0</td>\n",
       "    </tr>\n",
       "    <tr>\n",
       "      <th>k__Bacteria;__;__;__;__;__</th>\n",
       "      <td>8.0</td>\n",
       "      <td>6.0</td>\n",
       "      <td>0.0</td>\n",
       "      <td>0.0</td>\n",
       "    </tr>\n",
       "  </tbody>\n",
       "</table>\n",
       "</div>"
      ],
      "text/plain": [
       "                                                    13092.v2.06.ZymoMock.A7  \\\n",
       "k__Bacteria;p__Proteobacteria;c__Gammaproteobac...                  49798.0   \n",
       "k__Bacteria;p__Firmicutes;c__Bacilli;o__Lactoba...                  12121.0   \n",
       "k__Bacteria;p__Proteobacteria;c__Gammaproteobac...                   8525.0   \n",
       "k__Bacteria;p__Firmicutes;c__Bacilli;__;__;__                        7528.0   \n",
       "k__Bacteria;p__Firmicutes;c__Bacilli;o__Bacilla...                   6197.0   \n",
       "k__Bacteria;p__Firmicutes;c__Bacilli;o__Lactoba...                   4895.0   \n",
       "k__Bacteria;p__Firmicutes;c__Bacilli;o__Bacilla...                   2735.0   \n",
       "k__Bacteria;p__Actinobacteria;c__Actinobacteria...                     21.0   \n",
       "k__Bacteria;p__Bacteroidetes;c__Bacteroidia;o__...                     15.0   \n",
       "k__Bacteria;__;__;__;__;__                                              8.0   \n",
       "\n",
       "                                                    13092.v2.13.ZymoMock.A7  \\\n",
       "k__Bacteria;p__Proteobacteria;c__Gammaproteobac...                  33220.0   \n",
       "k__Bacteria;p__Firmicutes;c__Bacilli;o__Lactoba...                   9014.0   \n",
       "k__Bacteria;p__Proteobacteria;c__Gammaproteobac...                   3420.0   \n",
       "k__Bacteria;p__Firmicutes;c__Bacilli;__;__;__                        5928.0   \n",
       "k__Bacteria;p__Firmicutes;c__Bacilli;o__Bacilla...                   4910.0   \n",
       "k__Bacteria;p__Firmicutes;c__Bacilli;o__Lactoba...                   4461.0   \n",
       "k__Bacteria;p__Firmicutes;c__Bacilli;o__Bacilla...                   2302.0   \n",
       "k__Bacteria;p__Actinobacteria;c__Actinobacteria...                     10.0   \n",
       "k__Bacteria;p__Bacteroidetes;c__Bacteroidia;o__...                     12.0   \n",
       "k__Bacteria;__;__;__;__;__                                              6.0   \n",
       "\n",
       "                                                    13092.v2.05.ZymoMock.A7  \\\n",
       "k__Bacteria;p__Proteobacteria;c__Gammaproteobac...                  46877.0   \n",
       "k__Bacteria;p__Firmicutes;c__Bacilli;o__Lactoba...                  12239.0   \n",
       "k__Bacteria;p__Proteobacteria;c__Gammaproteobac...                   7846.0   \n",
       "k__Bacteria;p__Firmicutes;c__Bacilli;__;__;__                        7321.0   \n",
       "k__Bacteria;p__Firmicutes;c__Bacilli;o__Bacilla...                   6306.0   \n",
       "k__Bacteria;p__Firmicutes;c__Bacilli;o__Lactoba...                   5415.0   \n",
       "k__Bacteria;p__Firmicutes;c__Bacilli;o__Bacilla...                   2894.0   \n",
       "k__Bacteria;p__Actinobacteria;c__Actinobacteria...                     20.0   \n",
       "k__Bacteria;p__Bacteroidetes;c__Bacteroidia;o__...                     21.0   \n",
       "k__Bacteria;__;__;__;__;__                                              0.0   \n",
       "\n",
       "                                                    13092.v2.14.ZymoMock.A7  \n",
       "k__Bacteria;p__Proteobacteria;c__Gammaproteobac...                  39241.0  \n",
       "k__Bacteria;p__Firmicutes;c__Bacilli;o__Lactoba...                   9477.0  \n",
       "k__Bacteria;p__Proteobacteria;c__Gammaproteobac...                   8769.0  \n",
       "k__Bacteria;p__Firmicutes;c__Bacilli;__;__;__                        6265.0  \n",
       "k__Bacteria;p__Firmicutes;c__Bacilli;o__Bacilla...                   4676.0  \n",
       "k__Bacteria;p__Firmicutes;c__Bacilli;o__Lactoba...                   3018.0  \n",
       "k__Bacteria;p__Firmicutes;c__Bacilli;o__Bacilla...                   2319.0  \n",
       "k__Bacteria;p__Actinobacteria;c__Actinobacteria...                     49.0  \n",
       "k__Bacteria;p__Bacteroidetes;c__Bacteroidia;o__...                     23.0  \n",
       "k__Bacteria;__;__;__;__;__                                              0.0  "
      ]
     },
     "execution_count": 28,
     "metadata": {},
     "output_type": "execute_result"
    }
   ],
   "source": [
    "# quick visual check that top 8 taxa make up most of the reads in highest input sample (well A7)\n",
    "max_input = zymo[zymo.index.str.contains(\"A7\")]\n",
    "zymoT = max_input.T\n",
    "zymoT.sort_values(zymoT.columns[0], ascending = False).head(10)"
   ]
  },
  {
   "cell_type": "markdown",
   "metadata": {},
   "source": [
    "## Caluclate reads aligning to mock community"
   ]
  },
  {
   "cell_type": "code",
   "execution_count": 29,
   "metadata": {},
   "outputs": [],
   "source": [
    "# make a list of the taxa expected in the zymo community (also the  most abundant in the highest input samples)\n",
    "zymo7taxa = zymoT.sort_values(zymoT.columns[0], ascending = False).head(7).index"
   ]
  },
  {
   "cell_type": "code",
   "execution_count": 30,
   "metadata": {
    "scrolled": true
   },
   "outputs": [],
   "source": [
    "# Calculate the total number of reads per sample\n",
    "zymo['deblur_reads'] = zymo.sum(axis=1)\n",
    "# calculate the number of reads aligning to the mock community input genera\n",
    "zymo['zymo_reads'] = zymo[zymo7taxa].sum(axis=1)\n",
    "# calculate the percent correctly assigned\n",
    "zymo['correct_assign'] = zymo['zymo_reads'] / zymo['deblur_reads']"
   ]
  },
  {
   "cell_type": "code",
   "execution_count": 31,
   "metadata": {},
   "outputs": [
    {
     "name": "stderr",
     "output_type": "stream",
     "text": [
      "/Users/lisamarotz/miniconda2/envs/qiime2-2020.6/lib/python3.6/site-packages/ipykernel_launcher.py:3: SettingWithCopyWarning: \n",
      "A value is trying to be set on a copy of a slice from a DataFrame.\n",
      "Try using .loc[row_indexer,col_indexer] = value instead\n",
      "\n",
      "See the caveats in the documentation: http://pandas.pydata.org/pandas-docs/stable/user_guide/indexing.html#returning-a-view-versus-a-copy\n",
      "  This is separate from the ipykernel package so we can avoid doing imports until\n"
     ]
    }
   ],
   "source": [
    "# subset out KatharoSeq columns and add in logarithim of reads for plotting\n",
    "katharo = zymo[['correct_assign','deblur_reads','zymo_reads']]\n",
    "katharo['log_deblur_reads'] = np.log10(katharo['deblur_reads'])"
   ]
  },
  {
   "cell_type": "markdown",
   "metadata": {},
   "source": [
    "## Fit an allosteric sigmoid curve for extrpolating min read count #"
   ]
  },
  {
   "cell_type": "code",
   "execution_count": 35,
   "metadata": {
    "scrolled": true
   },
   "outputs": [
    {
     "name": "stdout",
     "output_type": "stream",
     "text": [
      "[   9.65346947 4357.45360311]\n"
     ]
    },
    {
     "data": {
      "image/png": "[encoded data removed]",
      "text/plain": [
       "<Figure size 432x288 with 1 Axes>"
      ]
     },
     "metadata": {
      "needs_background": "light"
     },
     "output_type": "display_data"
    }
   ],
   "source": [
    "# define the allosteric sigmoid equation\n",
    "def allosteric_sigmoid(x, h, k_prime):\n",
    "    y = x ** h / (k_prime + x ** h)\n",
    "    return y\n",
    " \n",
    "# fit the curve to your data\n",
    "popt, pcov = curve_fit(allosteric_sigmoid, katharo['log_deblur_reads'], katharo['correct_assign'], method='dogbox')\n",
    "print(popt)\n",
    "# plot fit curve\n",
    "x = np.linspace(0, 5, 50)\n",
    "y = allosteric_sigmoid(x, *popt)\n",
    "\n",
    "# plot the fit\n",
    "pylab.plot(katharo['log_deblur_reads'], katharo['correct_assign'], 'o', label='data')\n",
    "pylab.plot(x,y, label='fit')\n",
    "pylab.ylim(0, 1.05)\n",
    "pylab.ylabel('%reads aligning to mock community')\n",
    "pylab.xlabel('log(quality-filtered reads)')\n",
    "pylab.legend(loc='best')\n",
    "pylab.show()"
   ]
  },
  {
   "cell_type": "code",
   "execution_count": 40,
   "metadata": {},
   "outputs": [
    {
     "data": {
      "text/plain": [
       "241"
      ]
     },
     "execution_count": 40,
     "metadata": {},
     "output_type": "execute_result"
    }
   ],
   "source": [
    "# Determine the number of reads at which 50% of reads are expected to match input\n",
    "\n",
    "# assign variables and solve for X (number of reads to pass filter)\n",
    "h = popt[0]  # first value printed above graph\n",
    "k = popt[1]   # second value printed above graph\n",
    "y = 0.5 ## what you want to solve for\n",
    "\n",
    "min_log_reads = np.power((k/(1/y-1)),(1/h))\n",
    "min_freq_50 = np.power(10, min_log_reads).astype(int)\n",
    "min_freq_50"
   ]
  },
  {
   "cell_type": "code",
   "execution_count": 41,
   "metadata": {},
   "outputs": [
    {
     "data": {
      "text/plain": [
       "562"
      ]
     },
     "execution_count": 41,
     "metadata": {},
     "output_type": "execute_result"
    }
   ],
   "source": [
    "# Determine the number of reads at which 80% of reads are expected to match input\n",
    "\n",
    "# assign variables and solve for X (number of reads to pass filter)\n",
    "h = popt[0]  # first value printed above graph\n",
    "k = popt[1]   # second value printed above graph\n",
    "y = 0.8 ## what you want to solve for\n",
    "\n",
    "min_log_reads = np.power((k/(1/y-1)),(1/h))\n",
    "min_freq_80 = np.power(10, min_log_reads).astype(int)\n",
    "min_freq_80"
   ]
  },
  {
   "cell_type": "code",
   "execution_count": 42,
   "metadata": {},
   "outputs": [
    {
     "data": {
      "text/plain": [
       "979"
      ]
     },
     "execution_count": 42,
     "metadata": {},
     "output_type": "execute_result"
    }
   ],
   "source": [
    "# Determine the number of reads at which 90% of reads are expected to match input\n",
    "\n",
    "# assign variables and solve for X (number of reads to pass filter)\n",
    "h = popt[0]  # first value printed above graph\n",
    "k = popt[1]   # second value printed above graph\n",
    "y = 0.9 ## what you want to solve for\n",
    "\n",
    "min_log_reads = np.power((k/(1/y-1)),(1/h))\n",
    "min_freq_90 = np.power(10, min_log_reads).astype(int)\n",
    "min_freq_90"
   ]
  },
  {
   "cell_type": "markdown",
   "metadata": {},
   "source": [
    "## Remove samples with less than Katharoseq read limit"
   ]
  },
  {
   "cell_type": "code",
   "execution_count": 43,
   "metadata": {},
   "outputs": [],
   "source": [
    "# filter feature-table based on 50% read-match cutoff\n",
    "KS_table_50 = feature_table.methods.filter_samples(table = table,\n",
    "                             min_frequency = min_freq_50)\n",
    "df_50 = KS_table_50.filtered_table.view(pd.DataFrame)"
   ]
  },
  {
   "cell_type": "code",
   "execution_count": 44,
   "metadata": {},
   "outputs": [],
   "source": [
    "# filter feature-table based on 80% read-match cutoff \n",
    "KS_table_80 = feature_table.methods.filter_samples(table = table,\n",
    "                             min_frequency = min_freq_80)\n",
    "df_80 = KS_table_80.filtered_table.view(pd.DataFrame)"
   ]
  },
  {
   "cell_type": "code",
   "execution_count": 45,
   "metadata": {},
   "outputs": [],
   "source": [
    "# filter feature-table based on 90% read-match cutoff\n",
    "KS_table_90 = feature_table.methods.filter_samples(table = table,\n",
    "                             min_frequency = min_freq_90)\n",
    "df_90 = KS_table_90.filtered_table.view(pd.DataFrame)"
   ]
  },
  {
   "cell_type": "code",
   "execution_count": 46,
   "metadata": {},
   "outputs": [
    {
     "name": "stdout",
     "output_type": "stream",
     "text": [
      "full dataset 333 \n",
      " 50% 222 0.6666666666666666 % \n",
      " 80% 186 0.5585585585585585 % \n",
      " 90% 163 0.4894894894894895 %\n"
     ]
    }
   ],
   "source": [
    "# print the number (and percentage) of samples that are dropped at each filtering threshold\n",
    "print(\"full dataset\", len(df), \"\\n\",\n",
    "      \"50%\", len(df_50), len(df_50)/len(df),\"%\", \"\\n\",\n",
    "      \"80%\", len(df_80), len(df_80)/len(df),\"%\", \"\\n\",\n",
    "      \"90%\", len(df_90), len(df_90)/len(df),\"%\",)"
   ]
  },
  {
   "cell_type": "markdown",
   "metadata": {},
   "source": [
    "### Export Data"
   ]
  },
  {
   "cell_type": "code",
   "execution_count": 15,
   "metadata": {},
   "outputs": [
    {
     "data": {
      "text/plain": [
       "'96057_feature-table-KathSeqFil.qza'"
      ]
     },
     "execution_count": 15,
     "metadata": {},
     "output_type": "execute_result"
    }
   ],
   "source": [
    "KS_table_80.filtered_table.save('96057_feature-table-KathSeqFil.qza')"
   ]
  }
 ],
 "metadata": {
  "kernelspec": {
   "display_name": "Python 3",
   "language": "python",
   "name": "python3"
  },
  "language_info": {
   "codemirror_mode": {
    "name": "ipython",
    "version": 3
   },
   "file_extension": ".py",
   "mimetype": "text/x-python",
   "name": "python",
   "nbconvert_exporter": "python",
   "pygments_lexer": "ipython3",
   "version": "3.6.10"
  }
 },
 "nbformat": 4,
 "nbformat_minor": 4
}
