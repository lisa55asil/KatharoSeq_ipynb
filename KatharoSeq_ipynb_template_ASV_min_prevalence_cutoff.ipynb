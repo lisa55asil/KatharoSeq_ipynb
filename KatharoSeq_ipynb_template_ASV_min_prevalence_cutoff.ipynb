{
 "cells": [
  {
   "cell_type": "code",
   "execution_count": 20,
   "metadata": {},
   "outputs": [],
   "source": [
    "# import tools\n",
    "import pandas as pd\n",
    "%matplotlib inline\n",
    "import qiime2\n",
    "from qiime2 import Artifact\n",
    "from tempfile import mkdtemp\n",
    "from qiime2.plugins import demux, deblur, quality_filter, \\\n",
    "                           metadata, feature_table, alignment, \\\n",
    "                           phylogeny, diversity, emperor, feature_classifier, \\\n",
    "                           taxa, composition\n",
    "from qiime2.plugins import fragment_insertion\n",
    "from qiime2.plugins.fragment_insertion.methods import filter_features\n",
    "from qiime2.plugins.feature_table.methods import filter_samples\n",
    "from qiime2.plugins.feature_table.visualizers import summarize\n",
    "import seaborn as sns\n",
    "import matplotlib.pyplot as plt\n",
    "import numpy as np\n",
    "import pylab\n",
    "from scipy.optimize import curve_fit"
   ]
  },
  {
   "cell_type": "markdown",
   "metadata": {},
   "source": [
    "## Import data"
   ]
  },
  {
   "cell_type": "code",
   "execution_count": 21,
   "metadata": {},
   "outputs": [],
   "source": [
    "# import raw feature table and taxonomy\n",
    "table = Artifact.load('96057_feature-table.qza')\n",
    "tx = Artifact.load('96057_reference-hit.taxonomy_gg.qza').view(pd.DataFrame)"
   ]
  },
  {
   "cell_type": "markdown",
   "metadata": {},
   "source": [
    "## Filter out features present in less than 3 samples"
   ]
  },
  {
   "cell_type": "code",
   "execution_count": 23,
   "metadata": {},
   "outputs": [
    {
     "data": {
      "text/plain": [
       "'96057_feature-table-pms3.qza'"
      ]
     },
     "execution_count": 23,
     "metadata": {},
     "output_type": "execute_result"
    }
   ],
   "source": [
    "table_ms3 = feature_table.methods.filter_features(table = table,\n",
    "                             min_samples = 3)\n",
    "table_ms3.filtered_table.save('96057_feature-table-pms3.qza')"
   ]
  },
  {
   "cell_type": "code",
   "execution_count": 24,
   "metadata": {},
   "outputs": [
    {
     "data": {
      "text/plain": [
       "(21913, 3843)"
      ]
     },
     "execution_count": 24,
     "metadata": {},
     "output_type": "execute_result"
    }
   ],
   "source": [
    "t_ms3 = table_ms3.filtered_table.view(pd.DataFrame)\n",
    "t_ = table.view(pd.DataFrame)\n",
    "len(t_.T), len(t_ms3.T)"
   ]
  },
  {
   "cell_type": "markdown",
   "metadata": {},
   "source": [
    "## Quantify reads aligning to positve control"
   ]
  },
  {
   "cell_type": "code",
   "execution_count": 5,
   "metadata": {},
   "outputs": [
    {
     "data": {
      "text/html": [
       "<div>\n",
       "<style scoped>\n",
       "    .dataframe tbody tr th:only-of-type {\n",
       "        vertical-align: middle;\n",
       "    }\n",
       "\n",
       "    .dataframe tbody tr th {\n",
       "        vertical-align: top;\n",
       "    }\n",
       "\n",
       "    .dataframe thead th {\n",
       "        text-align: right;\n",
       "    }\n",
       "</style>\n",
       "<table border=\"1\" class=\"dataframe\">\n",
       "  <thead>\n",
       "    <tr style=\"text-align: right;\">\n",
       "      <th></th>\n",
       "      <th>index</th>\n",
       "      <th>13092.v2.06.ZymoMock.A7</th>\n",
       "      <th>13092.v2.13.ZymoMock.A7</th>\n",
       "      <th>13092.v2.05.ZymoMock.A7</th>\n",
       "      <th>13092.v2.14.ZymoMock.A7</th>\n",
       "      <th>Confidence</th>\n",
       "    </tr>\n",
       "    <tr>\n",
       "      <th>Taxon</th>\n",
       "      <th></th>\n",
       "      <th></th>\n",
       "      <th></th>\n",
       "      <th></th>\n",
       "      <th></th>\n",
       "      <th></th>\n",
       "    </tr>\n",
       "  </thead>\n",
       "  <tbody>\n",
       "    <tr>\n",
       "      <th>k__Bacteria; p__Proteobacteria; c__Gammaproteobacteria; o__Enterobacteriales; f__Enterobacteriaceae</th>\n",
       "      <td>TACGGAGGGTGCAAGCGTTAATCGGAATTACTGGGCGTAAAGCGCA...</td>\n",
       "      <td>25199.0</td>\n",
       "      <td>17120.0</td>\n",
       "      <td>23360.0</td>\n",
       "      <td>19977.0</td>\n",
       "      <td>0.9999995077760527</td>\n",
       "    </tr>\n",
       "    <tr>\n",
       "      <th>k__Bacteria; p__Proteobacteria; c__Gammaproteobacteria; o__Enterobacteriales; f__Enterobacteriaceae</th>\n",
       "      <td>TACGGAGGGTGCAAGCGTTAATCGGAATTACTGGGCGTAAAGCGCA...</td>\n",
       "      <td>23808.0</td>\n",
       "      <td>15474.0</td>\n",
       "      <td>22929.0</td>\n",
       "      <td>18617.0</td>\n",
       "      <td>0.9999999399832155</td>\n",
       "    </tr>\n",
       "    <tr>\n",
       "      <th>k__Bacteria; p__Firmicutes; c__Bacilli; o__Lactobacillales; f__Enterococcaceae; g__Enterococcus</th>\n",
       "      <td>TACGTAGGTGGCAAGCGTTGTCCGGATTTATTGGGCGTAAAGCGAG...</td>\n",
       "      <td>12120.0</td>\n",
       "      <td>9014.0</td>\n",
       "      <td>12239.0</td>\n",
       "      <td>9477.0</td>\n",
       "      <td>0.8381339317137253</td>\n",
       "    </tr>\n",
       "    <tr>\n",
       "      <th>k__Bacteria; p__Proteobacteria; c__Gammaproteobacteria; o__Pseudomonadales; f__Pseudomonadaceae; g__Pseudomonas</th>\n",
       "      <td>TACGAAGGGTGCAAGCGTTAATCGGAATTACTGGGCGTAAAGCGCG...</td>\n",
       "      <td>8524.0</td>\n",
       "      <td>3420.0</td>\n",
       "      <td>7841.0</td>\n",
       "      <td>8765.0</td>\n",
       "      <td>0.7568461062511695</td>\n",
       "    </tr>\n",
       "    <tr>\n",
       "      <th>k__Bacteria; p__Firmicutes; c__Bacilli</th>\n",
       "      <td>TACGTAGGTGGCAAGCGTTATCCGGAATTATTGGGCGTAAAGCGCG...</td>\n",
       "      <td>7528.0</td>\n",
       "      <td>5924.0</td>\n",
       "      <td>7321.0</td>\n",
       "      <td>6265.0</td>\n",
       "      <td>0.999999999827695</td>\n",
       "    </tr>\n",
       "    <tr>\n",
       "      <th>k__Bacteria; p__Firmicutes; c__Bacilli; o__Bacillales; f__Bacillaceae; g__Bacillus; s__</th>\n",
       "      <td>TACGTAGGTGGCAAGCGTTGTCCGGAATTATTGGGCGTAAAGGGCT...</td>\n",
       "      <td>6197.0</td>\n",
       "      <td>4910.0</td>\n",
       "      <td>6306.0</td>\n",
       "      <td>4676.0</td>\n",
       "      <td>0.9547623319560599</td>\n",
       "    </tr>\n",
       "    <tr>\n",
       "      <th>k__Bacteria; p__Firmicutes; c__Bacilli; o__Lactobacillales; f__Lactobacillaceae; g__Lactobacillus; s__</th>\n",
       "      <td>TACGTAGGTGGCAAGCGTTATCCGGATTTATTGGGCGTAAAGAGAG...</td>\n",
       "      <td>4780.0</td>\n",
       "      <td>4355.0</td>\n",
       "      <td>5274.0</td>\n",
       "      <td>2935.0</td>\n",
       "      <td>0.8940640260282465</td>\n",
       "    </tr>\n",
       "    <tr>\n",
       "      <th>k__Bacteria; p__Firmicutes; c__Bacilli; o__Bacillales; f__Listeriaceae; g__Listeria</th>\n",
       "      <td>TACGTAGGTGGCAAGCGTTGTCCGGATTTATTGGGCGTAAAGCGCG...</td>\n",
       "      <td>2732.0</td>\n",
       "      <td>2302.0</td>\n",
       "      <td>2887.0</td>\n",
       "      <td>2316.0</td>\n",
       "      <td>0.9317293667259242</td>\n",
       "    </tr>\n",
       "    <tr>\n",
       "      <th>k__Bacteria; p__Proteobacteria; c__Gammaproteobacteria; o__Enterobacteriales; f__Enterobacteriaceae</th>\n",
       "      <td>TACGGAGGGTGCAAGCGTTAATCGGAATTACTGGGCGTAAAGCGCA...</td>\n",
       "      <td>778.0</td>\n",
       "      <td>618.0</td>\n",
       "      <td>582.0</td>\n",
       "      <td>636.0</td>\n",
       "      <td>0.9999998276935724</td>\n",
       "    </tr>\n",
       "    <tr>\n",
       "      <th>k__Bacteria; p__Firmicutes; c__Bacilli; o__Lactobacillales; f__Lactobacillaceae; g__Lactobacillus; s__</th>\n",
       "      <td>TACGTAGGTGGCAAGCGTTATCCGGATTTATTGGGCGTAAAGAGAG...</td>\n",
       "      <td>115.0</td>\n",
       "      <td>102.0</td>\n",
       "      <td>141.0</td>\n",
       "      <td>83.0</td>\n",
       "      <td>0.9781151379097709</td>\n",
       "    </tr>\n",
       "  </tbody>\n",
       "</table>\n",
       "</div>"
      ],
      "text/plain": [
       "                                                                                                index  \\\n",
       "Taxon                                                                                                   \n",
       "k__Bacteria; p__Proteobacteria; c__Gammaproteob...  TACGGAGGGTGCAAGCGTTAATCGGAATTACTGGGCGTAAAGCGCA...   \n",
       "k__Bacteria; p__Proteobacteria; c__Gammaproteob...  TACGGAGGGTGCAAGCGTTAATCGGAATTACTGGGCGTAAAGCGCA...   \n",
       "k__Bacteria; p__Firmicutes; c__Bacilli; o__Lact...  TACGTAGGTGGCAAGCGTTGTCCGGATTTATTGGGCGTAAAGCGAG...   \n",
       "k__Bacteria; p__Proteobacteria; c__Gammaproteob...  TACGAAGGGTGCAAGCGTTAATCGGAATTACTGGGCGTAAAGCGCG...   \n",
       "k__Bacteria; p__Firmicutes; c__Bacilli              TACGTAGGTGGCAAGCGTTATCCGGAATTATTGGGCGTAAAGCGCG...   \n",
       "k__Bacteria; p__Firmicutes; c__Bacilli; o__Baci...  TACGTAGGTGGCAAGCGTTGTCCGGAATTATTGGGCGTAAAGGGCT...   \n",
       "k__Bacteria; p__Firmicutes; c__Bacilli; o__Lact...  TACGTAGGTGGCAAGCGTTATCCGGATTTATTGGGCGTAAAGAGAG...   \n",
       "k__Bacteria; p__Firmicutes; c__Bacilli; o__Baci...  TACGTAGGTGGCAAGCGTTGTCCGGATTTATTGGGCGTAAAGCGCG...   \n",
       "k__Bacteria; p__Proteobacteria; c__Gammaproteob...  TACGGAGGGTGCAAGCGTTAATCGGAATTACTGGGCGTAAAGCGCA...   \n",
       "k__Bacteria; p__Firmicutes; c__Bacilli; o__Lact...  TACGTAGGTGGCAAGCGTTATCCGGATTTATTGGGCGTAAAGAGAG...   \n",
       "\n",
       "                                                    13092.v2.06.ZymoMock.A7  \\\n",
       "Taxon                                                                         \n",
       "k__Bacteria; p__Proteobacteria; c__Gammaproteob...                  25199.0   \n",
       "k__Bacteria; p__Proteobacteria; c__Gammaproteob...                  23808.0   \n",
       "k__Bacteria; p__Firmicutes; c__Bacilli; o__Lact...                  12120.0   \n",
       "k__Bacteria; p__Proteobacteria; c__Gammaproteob...                   8524.0   \n",
       "k__Bacteria; p__Firmicutes; c__Bacilli                               7528.0   \n",
       "k__Bacteria; p__Firmicutes; c__Bacilli; o__Baci...                   6197.0   \n",
       "k__Bacteria; p__Firmicutes; c__Bacilli; o__Lact...                   4780.0   \n",
       "k__Bacteria; p__Firmicutes; c__Bacilli; o__Baci...                   2732.0   \n",
       "k__Bacteria; p__Proteobacteria; c__Gammaproteob...                    778.0   \n",
       "k__Bacteria; p__Firmicutes; c__Bacilli; o__Lact...                    115.0   \n",
       "\n",
       "                                                    13092.v2.13.ZymoMock.A7  \\\n",
       "Taxon                                                                         \n",
       "k__Bacteria; p__Proteobacteria; c__Gammaproteob...                  17120.0   \n",
       "k__Bacteria; p__Proteobacteria; c__Gammaproteob...                  15474.0   \n",
       "k__Bacteria; p__Firmicutes; c__Bacilli; o__Lact...                   9014.0   \n",
       "k__Bacteria; p__Proteobacteria; c__Gammaproteob...                   3420.0   \n",
       "k__Bacteria; p__Firmicutes; c__Bacilli                               5924.0   \n",
       "k__Bacteria; p__Firmicutes; c__Bacilli; o__Baci...                   4910.0   \n",
       "k__Bacteria; p__Firmicutes; c__Bacilli; o__Lact...                   4355.0   \n",
       "k__Bacteria; p__Firmicutes; c__Bacilli; o__Baci...                   2302.0   \n",
       "k__Bacteria; p__Proteobacteria; c__Gammaproteob...                    618.0   \n",
       "k__Bacteria; p__Firmicutes; c__Bacilli; o__Lact...                    102.0   \n",
       "\n",
       "                                                    13092.v2.05.ZymoMock.A7  \\\n",
       "Taxon                                                                         \n",
       "k__Bacteria; p__Proteobacteria; c__Gammaproteob...                  23360.0   \n",
       "k__Bacteria; p__Proteobacteria; c__Gammaproteob...                  22929.0   \n",
       "k__Bacteria; p__Firmicutes; c__Bacilli; o__Lact...                  12239.0   \n",
       "k__Bacteria; p__Proteobacteria; c__Gammaproteob...                   7841.0   \n",
       "k__Bacteria; p__Firmicutes; c__Bacilli                               7321.0   \n",
       "k__Bacteria; p__Firmicutes; c__Bacilli; o__Baci...                   6306.0   \n",
       "k__Bacteria; p__Firmicutes; c__Bacilli; o__Lact...                   5274.0   \n",
       "k__Bacteria; p__Firmicutes; c__Bacilli; o__Baci...                   2887.0   \n",
       "k__Bacteria; p__Proteobacteria; c__Gammaproteob...                    582.0   \n",
       "k__Bacteria; p__Firmicutes; c__Bacilli; o__Lact...                    141.0   \n",
       "\n",
       "                                                    13092.v2.14.ZymoMock.A7  \\\n",
       "Taxon                                                                         \n",
       "k__Bacteria; p__Proteobacteria; c__Gammaproteob...                  19977.0   \n",
       "k__Bacteria; p__Proteobacteria; c__Gammaproteob...                  18617.0   \n",
       "k__Bacteria; p__Firmicutes; c__Bacilli; o__Lact...                   9477.0   \n",
       "k__Bacteria; p__Proteobacteria; c__Gammaproteob...                   8765.0   \n",
       "k__Bacteria; p__Firmicutes; c__Bacilli                               6265.0   \n",
       "k__Bacteria; p__Firmicutes; c__Bacilli; o__Baci...                   4676.0   \n",
       "k__Bacteria; p__Firmicutes; c__Bacilli; o__Lact...                   2935.0   \n",
       "k__Bacteria; p__Firmicutes; c__Bacilli; o__Baci...                   2316.0   \n",
       "k__Bacteria; p__Proteobacteria; c__Gammaproteob...                    636.0   \n",
       "k__Bacteria; p__Firmicutes; c__Bacilli; o__Lact...                     83.0   \n",
       "\n",
       "                                                            Confidence  \n",
       "Taxon                                                                   \n",
       "k__Bacteria; p__Proteobacteria; c__Gammaproteob...  0.9999995077760527  \n",
       "k__Bacteria; p__Proteobacteria; c__Gammaproteob...  0.9999999399832155  \n",
       "k__Bacteria; p__Firmicutes; c__Bacilli; o__Lact...  0.8381339317137253  \n",
       "k__Bacteria; p__Proteobacteria; c__Gammaproteob...  0.7568461062511695  \n",
       "k__Bacteria; p__Firmicutes; c__Bacilli               0.999999999827695  \n",
       "k__Bacteria; p__Firmicutes; c__Bacilli; o__Baci...  0.9547623319560599  \n",
       "k__Bacteria; p__Firmicutes; c__Bacilli; o__Lact...  0.8940640260282465  \n",
       "k__Bacteria; p__Firmicutes; c__Bacilli; o__Baci...  0.9317293667259242  \n",
       "k__Bacteria; p__Proteobacteria; c__Gammaproteob...  0.9999998276935724  \n",
       "k__Bacteria; p__Firmicutes; c__Bacilli; o__Lact...  0.9781151379097709  "
      ]
     },
     "execution_count": 5,
     "metadata": {},
     "output_type": "execute_result"
    }
   ],
   "source": [
    "# pull out positive control samples\n",
    "t_ms3_zymo = t_ms3[t_ms3.index.str.contains('Zymo')]\n",
    "# ensure table values are numeric\n",
    "t_ms3_zymo = t_ms3_zymo.astype(float)\n",
    "# quick visual check that top 7 taxa make up most of the reads in highest input sample (well A7)\n",
    "max_input = t_ms3_zymo[t_ms3_zymo.index.str.contains(\"A7\")]\n",
    "t_ms3_zymoT = max_input.T\n",
    "top10 = t_ms3_zymoT.sort_values(t_ms3_zymoT.columns[0], ascending = False).head(10)\n",
    "# add in taxonomy\n",
    "top10tx = pd.merge(top10, tx, left_index=True, right_index=True)\n",
    "top10tx.reset_index(inplace=True)\n",
    "top10tx.set_index('Taxon').head(10)\n",
    "#top10tx['index'].to_csv('/Users/lisamarotz/Desktop/temp.csv')"
   ]
  },
  {
   "cell_type": "code",
   "execution_count": 6,
   "metadata": {},
   "outputs": [],
   "source": [
    "# make a list of the taxa expected in the zymo community (also the  most abundant in the highest input samples)\n",
    "bacteria8 = top10tx.head(8)['index']"
   ]
  },
  {
   "cell_type": "code",
   "execution_count": 7,
   "metadata": {},
   "outputs": [],
   "source": [
    "# Calculate the total number of reads per sample\n",
    "t_ms3_zymo['deblur_reads'] = t_ms3_zymo.sum(axis=1)\n",
    "# calculate the number of reads aligning to the mock community input genera\n",
    "t_ms3_zymo['zymo_reads'] = t_ms3_zymo[bacteria8].sum(axis=1)\n",
    "# calculate the percent correctly assigned\n",
    "t_ms3_zymo['correct_assign'] = t_ms3_zymo['zymo_reads'] / t_ms3_zymo['deblur_reads']"
   ]
  },
  {
   "cell_type": "code",
   "execution_count": 8,
   "metadata": {},
   "outputs": [
    {
     "name": "stderr",
     "output_type": "stream",
     "text": [
      "/Users/lisamarotz/miniconda2/envs/qiime2-2020.6/lib/python3.6/site-packages/ipykernel_launcher.py:3: SettingWithCopyWarning: \n",
      "A value is trying to be set on a copy of a slice from a DataFrame.\n",
      "Try using .loc[row_indexer,col_indexer] = value instead\n",
      "\n",
      "See the caveats in the documentation: http://pandas.pydata.org/pandas-docs/stable/user_guide/indexing.html#returning-a-view-versus-a-copy\n",
      "  This is separate from the ipykernel package so we can avoid doing imports until\n"
     ]
    }
   ],
   "source": [
    "# subset out KatharoSeq columns and add in logarithim of reads for plotting\n",
    "katharo = t_ms3_zymo[['correct_assign','deblur_reads','zymo_reads']]\n",
    "katharo['log_deblur_reads'] = np.log10(katharo['deblur_reads'])"
   ]
  },
  {
   "cell_type": "markdown",
   "metadata": {},
   "source": [
    "## Fit an allosteric sigmoid curve for extrpolating min read count #"
   ]
  },
  {
   "cell_type": "code",
   "execution_count": 9,
   "metadata": {
    "scrolled": false
   },
   "outputs": [
    {
     "name": "stdout",
     "output_type": "stream",
     "text": [
      "[   9.42022095 3261.21946201]\n"
     ]
    },
    {
     "data": {
      "image/png": "[encoded data removed]",
      "text/plain": [
       "<Figure size 432x288 with 1 Axes>"
      ]
     },
     "metadata": {
      "needs_background": "light"
     },
     "output_type": "display_data"
    }
   ],
   "source": [
    "# define the allosteric sigmoid equation\n",
    "def allosteric_sigmoid(x, h, k_prime):\n",
    "    y = x ** h / (k_prime + x ** h)\n",
    "    return y\n",
    " \n",
    "# fit the curve to your data\n",
    "popt, pcov = curve_fit(allosteric_sigmoid, katharo['log_deblur_reads'], katharo['correct_assign'], method='dogbox')\n",
    "print(popt)\n",
    "# plot fit curve\n",
    "x = np.linspace(0, 5, 50)\n",
    "y = allosteric_sigmoid(x, *popt)\n",
    "\n",
    "# plot the fit\n",
    "pylab.plot(katharo['log_deblur_reads'], katharo['correct_assign'], 'o', label='data')\n",
    "pylab.plot(x,y, label='fit')\n",
    "pylab.ylim(0, 1.05)\n",
    "pylab.legend(loc='best')\n",
    "pylab.show()"
   ]
  },
  {
   "cell_type": "code",
   "execution_count": 10,
   "metadata": {},
   "outputs": [
    {
     "data": {
      "text/plain": [
       "229"
      ]
     },
     "execution_count": 10,
     "metadata": {},
     "output_type": "execute_result"
    }
   ],
   "source": [
    "# Determine the number of reads at which 50% of reads are expected to match input\n",
    "\n",
    "# assign variables and solve for X (number of reads to pass filter)\n",
    "h = popt[0]  # first value printed above graph\n",
    "k = popt[1]   # second value printed above graph\n",
    "y = 0.5 ## what you want to solve for\n",
    "\n",
    "min_log_reads = np.power((k/(1/y-1)),(1/h))\n",
    "min_freq_50 = np.power(10, min_log_reads).astype(int)\n",
    "min_freq_50"
   ]
  },
  {
   "cell_type": "code",
   "execution_count": 11,
   "metadata": {},
   "outputs": [
    {
     "data": {
      "text/plain": [
       "542"
      ]
     },
     "execution_count": 11,
     "metadata": {},
     "output_type": "execute_result"
    }
   ],
   "source": [
    "# Determine the number of reads at which 80% of reads are expected to match input\n",
    "\n",
    "# assign variables and solve for X (number of reads to pass filter)\n",
    "h = popt[0]  # first value printed above graph\n",
    "k = popt[1]   # second value printed above graph\n",
    "y = 0.8 ## what you want to solve for\n",
    "\n",
    "min_log_reads = np.power((k/(1/y-1)),(1/h))\n",
    "min_freq_80 = np.power(10, min_log_reads).astype(int)\n",
    "min_freq_80"
   ]
  },
  {
   "cell_type": "code",
   "execution_count": 12,
   "metadata": {},
   "outputs": [
    {
     "data": {
      "text/plain": [
       "955"
      ]
     },
     "execution_count": 12,
     "metadata": {},
     "output_type": "execute_result"
    }
   ],
   "source": [
    "# Determine the number of reads at which 90% of reads are expected to match input\n",
    "\n",
    "# assign variables and solve for X (number of reads to pass filter)\n",
    "h = popt[0]  # first value printed above graph\n",
    "k = popt[1]   # second value printed above graph\n",
    "y = 0.9 ## what you want to solve for\n",
    "\n",
    "min_log_reads = np.power((k/(1/y-1)),(1/h))\n",
    "min_freq_90 = np.power(10, min_log_reads).astype(int)\n",
    "min_freq_90"
   ]
  },
  {
   "cell_type": "code",
   "execution_count": null,
   "metadata": {},
   "outputs": [],
   "source": []
  },
  {
   "cell_type": "markdown",
   "metadata": {},
   "source": [
    "## Remove samples with less than Katharoseq read limit"
   ]
  },
  {
   "cell_type": "code",
   "execution_count": 25,
   "metadata": {},
   "outputs": [],
   "source": [
    "# load filtered table as fresh table artifact (to allow for secondary filtering)\n",
    "table_ms3 = Artifact.load('96057_feature-table-pms3.qza')"
   ]
  },
  {
   "cell_type": "code",
   "execution_count": 15,
   "metadata": {},
   "outputs": [],
   "source": [
    "# filter out samples with read counts below what is estimated to achieve 50% accuracy  \n",
    "KS_table_50 = feature_table.methods.filter_samples(table = table_ms3,\n",
    "                             min_frequency = min_freq_50)\n",
    "df_50 = KS_table_50.filtered_table.view(pd.DataFrame)"
   ]
  },
  {
   "cell_type": "code",
   "execution_count": 16,
   "metadata": {},
   "outputs": [],
   "source": [
    "# filter out samples with read counts below what is estimated to achieve 80% accuracy  \n",
    "KS_table_80 = feature_table.methods.filter_samples(table = table_ms3,\n",
    "                             min_frequency = min_freq_80)\n",
    "df_80 = KS_table_80.filtered_table.view(pd.DataFrame)"
   ]
  },
  {
   "cell_type": "code",
   "execution_count": 17,
   "metadata": {},
   "outputs": [],
   "source": [
    "# filter out samples with read counts below what is estimated to achieve 90% accuracy  \n",
    "KS_table_90 = feature_table.methods.filter_samples(table = table_ms3,\n",
    "                             min_frequency = min_freq_90)\n",
    "df_90 = KS_table_90.filtered_table.view(pd.DataFrame)"
   ]
  },
  {
   "cell_type": "code",
   "execution_count": 18,
   "metadata": {},
   "outputs": [
    {
     "name": "stdout",
     "output_type": "stream",
     "text": [
      "full dataset 333 \n",
      " 50% 221 0.6636636636636637 % \n",
      " 80% 185 0.5555555555555556 % \n",
      " 90% 162 0.4864864864864865 %\n"
     ]
    }
   ],
   "source": [
    "# import collapsed table as pandas dataframe\n",
    "print(\"full dataset\", len(t_ms3), \"\\n\",\n",
    "      \"50%\", len(df_50), len(df_50)/len(t_ms3),\"%\", \"\\n\",\n",
    "      \"80%\", len(df_80), len(df_80)/len(t_ms3),\"%\", \"\\n\",\n",
    "      \"90%\", len(df_90), len(df_90)/len(t_ms3),\"%\",)"
   ]
  },
  {
   "cell_type": "markdown",
   "metadata": {},
   "source": [
    "### Export Data"
   ]
  },
  {
   "cell_type": "code",
   "execution_count": 19,
   "metadata": {},
   "outputs": [
    {
     "data": {
      "text/plain": [
       "'96057_feature-table-pms3_KathSeqFilASV.qza'"
      ]
     },
     "execution_count": 19,
     "metadata": {},
     "output_type": "execute_result"
    }
   ],
   "source": [
    "KS_table_80.filtered_table.save('96057_feature-table-pms3_KathSeqFilASV.qza')"
   ]
  },
  {
   "cell_type": "code",
   "execution_count": null,
   "metadata": {},
   "outputs": [],
   "source": []
  }
 ],
 "metadata": {
  "kernelspec": {
   "display_name": "Python 3",
   "language": "python",
   "name": "python3"
  },
  "language_info": {
   "codemirror_mode": {
    "name": "ipython",
    "version": 3
   },
   "file_extension": ".py",
   "mimetype": "text/x-python",
   "name": "python",
   "nbconvert_exporter": "python",
   "pygments_lexer": "ipython3",
   "version": "3.6.10"
  }
 },
 "nbformat": 4,
 "nbformat_minor": 4
}
